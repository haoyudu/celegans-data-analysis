{
 "cells": [
  {
   "cell_type": "code",
   "execution_count": 1,
   "metadata": {},
   "outputs": [],
   "source": [
    "import numpy as np\n",
    "import matplotlib.pyplot as plt"
   ]
  },
  {
   "cell_type": "code",
   "execution_count": null,
   "metadata": {},
   "outputs": [],
   "source": [
    "# if reading specific columns\n",
    "get_col = lambda col: (line.split('\\t')[col-1] for line in open('body.dat'))\n",
    "# array.array('d',map(float,get_col(1)))"
   ]
  },
  {
   "cell_type": "code",
   "execution_count": 2,
   "metadata": {},
   "outputs": [],
   "source": [
    "body = np.loadtxt('body.dat').flatten()\n",
    "body_2d = np.loadtxt('body.dat')\n",
    "\n",
    "new_body_2d = []\n",
    "body_2d = body_2d.tolist()\n",
    "\n",
    "for i in range(len(body_2d)):\n",
    "    body_2d[i].pop(0)\n",
    "    new_body_2d.append(body_2d[i])\n",
    "\n",
    "new_body_2d = np.array(np.array(new_body_2d))\n",
    "new_body_2d = new_body_2d.flatten()\n",
    "x_coords = new_body_2d[::3]\n",
    "y_coords = new_body_2d[1::3]\n",
    "theta = new_body_2d[2::3]"
   ]
  },
  {
   "cell_type": "code",
   "execution_count": 4,
   "metadata": {},
   "outputs": [
    {
     "data": {
      "image/png": "[encoded data removed]",
      "text/plain": [
       "<Figure size 432x288 with 1 Axes>"
      ]
     },
     "metadata": {
      "needs_background": "light"
     },
     "output_type": "display_data"
    }
   ],
   "source": [
    "plt.scatter(x_coords[:200], y_coords[:200])\n",
    "plt.show()"
   ]
  },
  {
   "cell_type": "code",
   "execution_count": null,
   "metadata": {},
   "outputs": [],
   "source": []
  }
 ],
 "metadata": {
  "kernelspec": {
   "display_name": "base",
   "language": "python",
   "name": "python3"
  },
  "language_info": {
   "codemirror_mode": {
    "name": "ipython",
    "version": 3
   },
   "file_extension": ".py",
   "mimetype": "text/x-python",
   "name": "python",
   "nbconvert_exporter": "python",
   "pygments_lexer": "ipython3",
   "version": "3.9.12"
  },
  "orig_nbformat": 4,
  "vscode": {
   "interpreter": {
    "hash": "cfbcc9c80930ecc16f74ad76ddc7f13b0332e91aee988518bf02232ca57a24df"
   }
  }
 },
 "nbformat": 4,
 "nbformat_minor": 2
}
