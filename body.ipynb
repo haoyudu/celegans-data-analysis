{
 "cells": [
  {
   "cell_type": "code",
   "execution_count": null,
   "metadata": {},
   "outputs": [],
   "source": [
    "import numpy as np\n",
    "import matplotlib.pyplot as plt\n",
    "\n",
    "# if reading specific columns\n",
    "# get_col = lambda col: (line.split('\\t')[col] for line in open('body.dat'))\n",
    "# array.array('d',map(float,get_col(1)))"
   ]
  },
  {
   "cell_type": "code",
   "execution_count": null,
   "metadata": {},
   "outputs": [],
   "source": [
    "arr_far = np.genfromtxt('data/eda_3_3.dat', delimiter = ' ', dtype = None)\n",
    "time = [i[0] for i in arr_far]\n",
    "x = [i[1] for i in arr_far]\n",
    "y = [i[2] for i in arr_far]\n",
    "theta = [i[3] for i in arr_far]\n",
    "\n",
    "plt.scatter(time[500:1000], theta[500:1000])\n",
    "plt.show()\n"
   ]
  },
  {
   "cell_type": "code",
   "execution_count": null,
   "metadata": {},
   "outputs": [],
   "source": [
    "\n",
    "X = np.fft.fft(theta)\n",
    "N = len(X)\n",
    "n = np.arange(N)\n",
    "sr = len(time) / 100\n",
    "T = N/sr\n",
    "freq = n/T\n",
    "n_side = N//2\n",
    "f_side = freq[:n_side]\n",
    "\n",
    "\n",
    "%matplotlib inline\n",
    "import mpld3\n",
    "mpld3.enable_notebook()\n",
    "#mpld3.disable_notebook()\n",
    "plt.figure(figsize = (12, 6))\n",
    "plt.plot(f_side, np.abs(X[:n_side]), 'b')\n",
    "plt.xlabel('Freq (Hz)')\n",
    "plt.ylabel('FFT Amplitude |X(freq)|')\n",
    "plt.show()\n",
    "\n",
    "# clarify what units this returns in\n",
    "freqs = np.fft.fftfreq(len(X))\n",
    "print(freqs.min(), freqs.max())\n",
    "\n",
    "# Find the peak in the coefficients\n",
    "idx = np.argmax(np.abs(X)[:])\n",
    "freq = freqs[idx]\n",
    "freq_in_hertz = abs(freq * sr)\n",
    "print(freq_in_hertz)\n"
   ]
  }
 ],
 "metadata": {
  "kernelspec": {
   "display_name": "Python 3 (ipykernel)",
   "language": "python",
   "name": "python3"
  },
  "language_info": {
   "codemirror_mode": {
    "name": "ipython",
    "version": 3
   },
   "file_extension": ".py",
   "mimetype": "text/x-python",
   "name": "python",
   "nbconvert_exporter": "python",
   "pygments_lexer": "ipython3",
   "version": "3.9.12"
  },
  "vscode": {
   "interpreter": {
    "hash": "cfbcc9c80930ecc16f74ad76ddc7f13b0332e91aee988518bf02232ca57a24df"
   }
  }
 },
 "nbformat": 4,
 "nbformat_minor": 2
}
